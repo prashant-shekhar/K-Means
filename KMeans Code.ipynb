{
 "cells": [
  {
   "cell_type": "code",
   "execution_count": 1,
   "metadata": {},
   "outputs": [],
   "source": [
    "import numpy as np\n",
    "import pandas as pd\n",
    "import matplotlib.pyplot as plt\n",
    "%matplotlib inline"
   ]
  },
  {
   "cell_type": "code",
   "execution_count": 2,
   "metadata": {},
   "outputs": [],
   "source": [
    "def kmeans(X, K, max_iterations = 1000):   \n",
    "    centroids = X[np.random.choice(np.arange(len(X)), K), :]   \n",
    "    for i in range (max_iterations):\n",
    "        C = []   \n",
    "        for x_i in X:     \n",
    "            distances = [] \n",
    "            for c in centroids:\n",
    "                d = np.dot(x_i-c, x_i-c)  \n",
    "                distances.append(d)\n",
    "            centroid_index = np.argmin(distances)  \n",
    "            C.append(centroid_index)\n",
    "        C = np.array(C)   \n",
    "        centroids = [ X[C==k].mean(axis = 0) for k in range (K)]\n",
    "    return np.array(centroids), C"
   ]
  },
  {
   "cell_type": "code",
   "execution_count": 3,
   "metadata": {},
   "outputs": [
    {
     "name": "stderr",
     "output_type": "stream",
     "text": [
      "c:\\users\\prashant shekhar\\appdata\\local\\programs\\python\\python37-32\\lib\\site-packages\\ipykernel_launcher.py:5: RuntimeWarning: covariance is not symmetric positive-semidefinite.\n",
      "  \"\"\"\n",
      "c:\\users\\prashant shekhar\\appdata\\local\\programs\\python\\python37-32\\lib\\site-packages\\ipykernel_launcher.py:6: RuntimeWarning: covariance is not symmetric positive-semidefinite.\n",
      "  \n",
      "c:\\users\\prashant shekhar\\appdata\\local\\programs\\python\\python37-32\\lib\\site-packages\\ipykernel_launcher.py:7: RuntimeWarning: covariance is not symmetric positive-semidefinite.\n",
      "  import sys\n"
     ]
    }
   ],
   "source": [
    "m1, cov1 = [9,8], [[1.5,2],[1,2]]  \n",
    "m2, cov2 = [5,13], [[2.5,-1.5],[-1.5,-1.5]]\n",
    "m3, cov3 = [3,7], [[0.25,0.5],[-0.1,0.5]]\n",
    "\n",
    "data1 = np.random.multivariate_normal(m1,cov1,250)\n",
    "data2 = np.random.multivariate_normal(m2,cov2,180)\n",
    "data3 = np.random.multivariate_normal(m3,cov3,100)\n",
    "\n",
    "X = np.vstack((data3, np.vstack((data1, data2)) )) \n",
    "np.random.shuffle(X)"
   ]
  },
  {
   "cell_type": "code",
   "execution_count": 4,
   "metadata": {},
   "outputs": [
    {
     "name": "stdout",
     "output_type": "stream",
     "text": [
      "[[ 3.11041682  7.1410458 ]\n",
      " [ 9.10835318  8.11203693]\n",
      " [ 5.21798578 13.25109036]]\n",
      "[2 2 1 1 1 0 1 2 1 1 0 2 2 1 1 1 0 0 0 1 0 1 1 1 1 1 1 1 2 2 2 2 1 0 1 0 1\n",
      " 1 1 0 2 1 2 0 0 2 1 1 2 1 1 1 0 2 2 2 2 1 2 0 1 0 0 1 1 1 1 0 2 1 2 2 1 2\n",
      " 1 2 0 1 2 1 1 0 1 1 1 2 2 2 1 2 1 2 0 1 1 1 1 0 0 1 2 2 1 1 2 0 2 2 0 0 2\n",
      " 2 2 0 1 1 1 1 0 1 1 2 0 2 1 0 0 2 2 1 2 1 1 1 0 1 1 0 0 1 2 2 2 1 1 1 1 2\n",
      " 2 1 1 2 1 1 0 0 1 2 1 2 2 0 0 1 1 1 2 2 2 1 2 1 0 1 0 1 1 1 0 1 2 1 0 1 0\n",
      " 1 1 0 2 1 2 1 2 0 1 2 1 1 1 0 2 1 2 1 1 2 1 2 0 2 2 2 1 1 1 0 2 1 1 1 2 2\n",
      " 2 0 0 2 1 1 2 1 0 1 1 2 1 2 1 2 1 2 2 2 2 2 1 1 0 0 1 2 1 1 1 1 0 1 1 2 2\n",
      " 0 0 2 0 1 2 1 1 2 2 1 0 2 1 1 2 1 0 1 2 0 0 1 1 1 2 0 1 1 1 1 2 2 1 1 0 1\n",
      " 1 1 2 1 2 0 2 0 0 2 0 1 1 2 2 1 1 2 1 2 0 2 0 1 2 1 1 0 1 1 0 0 1 0 0 2 2\n",
      " 1 0 1 2 0 2 1 2 0 1 2 0 2 1 1 1 1 0 0 1 1 1 0 2 1 0 0 1 1 0 1 1 1 1 1 2 0\n",
      " 1 2 2 2 2 1 1 1 1 2 1 0 1 1 2 1 2 2 1 0 2 2 2 2 2 1 1 0 2 2 1 1 1 0 2 1 1\n",
      " 2 1 0 1 2 1 1 1 0 1 2 1 1 2 2 2 1 2 2 2 1 2 1 2 0 1 1 1 2 2 1 1 0 0 1 2 2\n",
      " 1 2 2 1 1 1 0 1 2 2 1 1 0 0 1 0 2 2 1 0 2 1 2 1 2 2 1 1 2 2 2 1 1 2 1 1 1\n",
      " 2 1 0 1 1 1 0 2 0 1 2 1 1 1 1 0 1 1 1 0 0 2 2 0 1 1 2 1 1 0 2 1 1 1 1 1 2\n",
      " 2 2 1 2 2 0 2 1 2 1 0 1]\n"
     ]
    }
   ],
   "source": [
    "centroids, C = kmeans(X, K=3)    #kmean will return the centroid\n",
    "print(centroids)\n",
    "print(C)"
   ]
  },
  {
   "cell_type": "code",
   "execution_count": 5,
   "metadata": {},
   "outputs": [
    {
     "data": {
      "image/png": "[encoded data removed]",
      "text/plain": [
       "<Figure size 432x288 with 1 Axes>"
      ]
     },
     "metadata": {
      "needs_background": "light"
     },
     "output_type": "display_data"
    }
   ],
   "source": [
    "plt.scatter(X[:,0], X[:,-1])\n",
    "plt.plot(centroids[:,0],centroids[:,-1], 'r*',markersize=20)\n",
    "plt.show()"
   ]
  },
  {
   "cell_type": "code",
   "execution_count": null,
   "metadata": {},
   "outputs": [],
   "source": []
  }
 ],
 "metadata": {
  "kernelspec": {
   "display_name": "Python 3",
   "language": "python",
   "name": "python3"
  },
  "language_info": {
   "codemirror_mode": {
    "name": "ipython",
    "version": 3
   },
   "file_extension": ".py",
   "mimetype": "text/x-python",
   "name": "python",
   "nbconvert_exporter": "python",
   "pygments_lexer": "ipython3",
   "version": "3.7.3"
  }
 },
 "nbformat": 4,
 "nbformat_minor": 2
}
